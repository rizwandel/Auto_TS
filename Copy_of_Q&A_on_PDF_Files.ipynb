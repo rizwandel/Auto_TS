{
  "nbformat": 4,
  "nbformat_minor": 0,
  "metadata": {
    "accelerator": "GPU",
    "colab": {
      "name": "Copy of Q&A on PDF Files.ipynb",
      "provenance": [],
      "collapsed_sections": [],
      "include_colab_link": true
    },
    "hide_input": false,
    "kernelspec": {
      "display_name": "Python 3",
      "language": "python",
      "name": "python3"
    },
    "language_info": {
      "codemirror_mode": {
        "name": "ipython",
        "version": 3
      },
      "file_extension": ".py",
      "mimetype": "text/x-python",
      "name": "python",
      "nbconvert_exporter": "python",
      "pygments_lexer": "ipython3",
      "version": "3.6.8"
    },
    "toc": {
      "base_numbering": 1,
      "nav_menu": {},
      "number_sections": true,
      "sideBar": true,
      "skip_h1_title": false,
      "title_cell": "Table of Contents",
      "title_sidebar": "Contents",
      "toc_cell": false,
      "toc_position": {},
      "toc_section_display": true,
      "toc_window_display": false
    },
    "varInspector": {
      "cols": {
        "lenName": 16,
        "lenType": 16,
        "lenVar": 40
      },
      "kernels_config": {
        "python": {
          "delete_cmd_postfix": "",
          "delete_cmd_prefix": "del ",
          "library": "var_list.py",
          "varRefreshCmd": "print(var_dic_list())"
        },
        "r": {
          "delete_cmd_postfix": ") ",
          "delete_cmd_prefix": "rm(",
          "library": "var_list.r",
          "varRefreshCmd": "cat(var_dic_list()) "
        }
      },
      "types_to_exclude": [
        "module",
        "function",
        "builtin_function_or_method",
        "instance",
        "_Feature"
      ],
      "window_display": false
    }
  },
  "cells": [
    {
      "cell_type": "markdown",
      "metadata": {
        "id": "view-in-github",
        "colab_type": "text"
      },
      "source": [
        "<a href=\"https://colab.research.google.com/github/rizwandel/Auto_TS/blob/master/Copy_of_Q%26A_on_PDF_Files.ipynb\" target=\"_parent\"><img src=\"https://colab.research.google.com/assets/colab-badge.svg\" alt=\"Open In Colab\"/></a>"
      ]
    },
    {
      "cell_type": "code",
      "metadata": {
        "id": "QhtsEztLNBdq",
        "colab": {
          "base_uri": "https://localhost:8080/",
          "height": 1000
        },
        "outputId": "2748c43f-ecb6-49d2-dbc7-b6a280252abe"
      },
      "source": [
        "!pip install cdqa\n",
        "!pip install flask-ngrok\n"
      ],
      "execution_count": null,
      "outputs": [
        {
          "output_type": "stream",
          "text": [
            "Collecting cdqa\n",
            "\u001b[?25l  Downloading https://files.pythonhosted.org/packages/39/f5/af831b7ee653aa6bace99e39ec6b2754b1adb10bb60a1296f5e16f1f24ee/cdqa-1.3.9.tar.gz (45kB)\n",
            "\u001b[K     |████████████████████████████████| 51kB 2.8MB/s \n",
            "\u001b[?25hCollecting Flask==1.1.1\n",
            "\u001b[?25l  Downloading https://files.pythonhosted.org/packages/9b/93/628509b8d5dc749656a9641f4caf13540e2cdec85276964ff8f43bbb1d3b/Flask-1.1.1-py2.py3-none-any.whl (94kB)\n",
            "\u001b[K     |████████████████████████████████| 102kB 5.0MB/s \n",
            "\u001b[?25hCollecting flask_cors==3.0.8\n",
            "  Downloading https://files.pythonhosted.org/packages/78/38/e68b11daa5d613e3a91e4bf3da76c94ac9ee0d9cd515af9c1ab80d36f709/Flask_Cors-3.0.8-py2.py3-none-any.whl\n",
            "Collecting joblib==0.13.2\n",
            "\u001b[?25l  Downloading https://files.pythonhosted.org/packages/cd/c1/50a758e8247561e58cb87305b1e90b171b8c767b15b12a1734001f41d356/joblib-0.13.2-py2.py3-none-any.whl (278kB)\n",
            "\u001b[K     |████████████████████████████████| 286kB 21.1MB/s \n",
            "\u001b[?25hCollecting pandas==0.25.0\n",
            "\u001b[?25l  Downloading https://files.pythonhosted.org/packages/1d/9a/7eb9952f4b4d73fbd75ad1d5d6112f407e695957444cb695cbb3cdab918a/pandas-0.25.0-cp36-cp36m-manylinux1_x86_64.whl (10.5MB)\n",
            "\u001b[K     |████████████████████████████████| 10.5MB 40.2MB/s \n",
            "\u001b[?25hCollecting prettytable==0.7.2\n",
            "  Downloading https://files.pythonhosted.org/packages/ef/30/4b0746848746ed5941f052479e7c23d2b56d174b82f4fd34a25e389831f5/prettytable-0.7.2.tar.bz2\n",
            "Collecting transformers==2.1.1\n",
            "\u001b[?25l  Downloading https://files.pythonhosted.org/packages/fd/f9/51824e40f0a23a49eab4fcaa45c1c797cbf9761adedd0b558dab7c958b34/transformers-2.1.1-py3-none-any.whl (311kB)\n",
            "\u001b[K     |████████████████████████████████| 317kB 32.4MB/s \n",
            "\u001b[?25hCollecting scikit_learn==0.21.2\n",
            "\u001b[?25l  Downloading https://files.pythonhosted.org/packages/85/04/49633f490f726da6e454fddc8e938bbb5bfed2001681118d3814c219b723/scikit_learn-0.21.2-cp36-cp36m-manylinux1_x86_64.whl (6.7MB)\n",
            "\u001b[K     |████████████████████████████████| 6.7MB 35.5MB/s \n",
            "\u001b[?25hCollecting tika==1.19\n",
            "  Downloading https://files.pythonhosted.org/packages/10/75/b566e446ffcf292f10c8d84c15a3d91615fe3d7ca8072a17c949d4e84b66/tika-1.19.tar.gz\n",
            "Collecting torch==1.2.0\n",
            "\u001b[?25l  Downloading https://files.pythonhosted.org/packages/30/57/d5cceb0799c06733eefce80c395459f28970ebb9e896846ce96ab579a3f1/torch-1.2.0-cp36-cp36m-manylinux1_x86_64.whl (748.8MB)\n",
            "\u001b[K     |████████████████████████████████| 748.9MB 23kB/s \n",
            "\u001b[?25hCollecting markdown==3.1.1\n",
            "\u001b[?25l  Downloading https://files.pythonhosted.org/packages/c0/4e/fd492e91abdc2d2fcb70ef453064d980688762079397f779758e055f6575/Markdown-3.1.1-py2.py3-none-any.whl (87kB)\n",
            "\u001b[K     |████████████████████████████████| 92kB 9.7MB/s \n",
            "\u001b[?25hCollecting tqdm==4.32.2\n",
            "\u001b[?25l  Downloading https://files.pythonhosted.org/packages/9f/3d/7a6b68b631d2ab54975f3a4863f3c4e9b26445353264ef01f465dc9b0208/tqdm-4.32.2-py2.py3-none-any.whl (50kB)\n",
            "\u001b[K     |████████████████████████████████| 51kB 6.4MB/s \n",
            "\u001b[?25hCollecting wget==3.2\n",
            "  Downloading https://files.pythonhosted.org/packages/47/6a/62e288da7bcda82b935ff0c6cfe542970f04e29c756b0e147251b2fb251f/wget-3.2.zip\n",
            "Requirement already satisfied: click>=5.1 in /usr/local/lib/python3.6/dist-packages (from Flask==1.1.1->cdqa) (7.1.2)\n",
            "Requirement already satisfied: Jinja2>=2.10.1 in /usr/local/lib/python3.6/dist-packages (from Flask==1.1.1->cdqa) (2.11.2)\n",
            "Requirement already satisfied: itsdangerous>=0.24 in /usr/local/lib/python3.6/dist-packages (from Flask==1.1.1->cdqa) (1.1.0)\n",
            "Requirement already satisfied: Werkzeug>=0.15 in /usr/local/lib/python3.6/dist-packages (from Flask==1.1.1->cdqa) (1.0.1)\n",
            "Requirement already satisfied: Six in /usr/local/lib/python3.6/dist-packages (from flask_cors==3.0.8->cdqa) (1.15.0)\n",
            "Requirement already satisfied: numpy>=1.13.3 in /usr/local/lib/python3.6/dist-packages (from pandas==0.25.0->cdqa) (1.18.5)\n",
            "Requirement already satisfied: python-dateutil>=2.6.1 in /usr/local/lib/python3.6/dist-packages (from pandas==0.25.0->cdqa) (2.8.1)\n",
            "Requirement already satisfied: pytz>=2017.2 in /usr/local/lib/python3.6/dist-packages (from pandas==0.25.0->cdqa) (2018.9)\n",
            "Requirement already satisfied: regex in /usr/local/lib/python3.6/dist-packages (from transformers==2.1.1->cdqa) (2019.12.20)\n",
            "Requirement already satisfied: requests in /usr/local/lib/python3.6/dist-packages (from transformers==2.1.1->cdqa) (2.23.0)\n",
            "Collecting sentencepiece\n",
            "\u001b[?25l  Downloading https://files.pythonhosted.org/packages/e5/2d/6d4ca4bef9a67070fa1cac508606328329152b1df10bdf31fb6e4e727894/sentencepiece-0.1.94-cp36-cp36m-manylinux2014_x86_64.whl (1.1MB)\n",
            "\u001b[K     |████████████████████████████████| 1.1MB 34.0MB/s \n",
            "\u001b[?25hCollecting sacremoses\n",
            "\u001b[?25l  Downloading https://files.pythonhosted.org/packages/7d/34/09d19aff26edcc8eb2a01bed8e98f13a1537005d31e95233fd48216eed10/sacremoses-0.0.43.tar.gz (883kB)\n",
            "\u001b[K     |████████████████████████████████| 890kB 34.8MB/s \n",
            "\u001b[?25hCollecting boto3\n",
            "\u001b[?25l  Downloading https://files.pythonhosted.org/packages/b7/df/6c160e21a5caa800de16f2aa859b92671623118b4d124639aeab06876c06/boto3-1.16.28-py2.py3-none-any.whl (129kB)\n",
            "\u001b[K     |████████████████████████████████| 133kB 45.4MB/s \n",
            "\u001b[?25hRequirement already satisfied: scipy>=0.17.0 in /usr/local/lib/python3.6/dist-packages (from scikit_learn==0.21.2->cdqa) (1.4.1)\n",
            "Requirement already satisfied: setuptools in /usr/local/lib/python3.6/dist-packages (from tika==1.19->cdqa) (50.3.2)\n",
            "Requirement already satisfied: MarkupSafe>=0.23 in /usr/local/lib/python3.6/dist-packages (from Jinja2>=2.10.1->Flask==1.1.1->cdqa) (1.1.1)\n",
            "Requirement already satisfied: idna<3,>=2.5 in /usr/local/lib/python3.6/dist-packages (from requests->transformers==2.1.1->cdqa) (2.10)\n",
            "Requirement already satisfied: certifi>=2017.4.17 in /usr/local/lib/python3.6/dist-packages (from requests->transformers==2.1.1->cdqa) (2020.11.8)\n",
            "Requirement already satisfied: chardet<4,>=3.0.2 in /usr/local/lib/python3.6/dist-packages (from requests->transformers==2.1.1->cdqa) (3.0.4)\n",
            "Requirement already satisfied: urllib3!=1.25.0,!=1.25.1,<1.26,>=1.21.1 in /usr/local/lib/python3.6/dist-packages (from requests->transformers==2.1.1->cdqa) (1.24.3)\n",
            "Collecting botocore<1.20.0,>=1.19.28\n",
            "\u001b[?25l  Downloading https://files.pythonhosted.org/packages/ac/e0/966b82eb9eab5fe36e80bcbbfda0d3f49cdd9ec896ebe9edb9824f896cd7/botocore-1.19.28-py2.py3-none-any.whl (7.0MB)\n",
            "\u001b[K     |████████████████████████████████| 7.0MB 35.9MB/s \n",
            "\u001b[?25hCollecting s3transfer<0.4.0,>=0.3.0\n",
            "\u001b[?25l  Downloading https://files.pythonhosted.org/packages/69/79/e6afb3d8b0b4e96cefbdc690f741d7dd24547ff1f94240c997a26fa908d3/s3transfer-0.3.3-py2.py3-none-any.whl (69kB)\n",
            "\u001b[K     |████████████████████████████████| 71kB 7.5MB/s \n",
            "\u001b[?25hCollecting jmespath<1.0.0,>=0.7.1\n",
            "  Downloading https://files.pythonhosted.org/packages/07/cb/5f001272b6faeb23c1c9e0acc04d48eaaf5c862c17709d20e3469c6e0139/jmespath-0.10.0-py2.py3-none-any.whl\n",
            "Building wheels for collected packages: cdqa, prettytable, tika, wget, sacremoses\n",
            "  Building wheel for cdqa (setup.py) ... \u001b[?25l\u001b[?25hdone\n",
            "  Created wheel for cdqa: filename=cdqa-1.3.9-cp36-none-any.whl size=47640 sha256=cdb55193a2747e8a61a6ce0b2a71d413a0d8ae2d0a6e4a0011c253f20a182706\n",
            "  Stored in directory: /root/.cache/pip/wheels/8b/9a/68/d3f7651ea29c30d1bebc9e946bf5a8cf922e1c86fb6b8a33d9\n",
            "  Building wheel for prettytable (setup.py) ... \u001b[?25l\u001b[?25hdone\n",
            "  Created wheel for prettytable: filename=prettytable-0.7.2-cp36-none-any.whl size=13700 sha256=80123678fa07884d931b1bc097c1e44614ee3d350a32595456d60e877faacda3\n",
            "  Stored in directory: /root/.cache/pip/wheels/80/34/1c/3967380d9676d162cb59513bd9dc862d0584e045a162095606\n",
            "  Building wheel for tika (setup.py) ... \u001b[?25l\u001b[?25hdone\n",
            "  Created wheel for tika: filename=tika-1.19-cp36-none-any.whl size=29223 sha256=099232cfcdcc83c585bf16bbd9ed0d23a953cdfc22aa90f58d5fb4fec210a3a0\n",
            "  Stored in directory: /root/.cache/pip/wheels/b4/db/8a/3a3f0c0725448eaa92703e3dda71e29dc13a119ff6c1036848\n",
            "  Building wheel for wget (setup.py) ... \u001b[?25l\u001b[?25hdone\n",
            "  Created wheel for wget: filename=wget-3.2-cp36-none-any.whl size=9682 sha256=d65148a47e9250998b43ab5548a60b68b933e0078c7a231d0e2253d1770cb317\n",
            "  Stored in directory: /root/.cache/pip/wheels/40/15/30/7d8f7cea2902b4db79e3fea550d7d7b85ecb27ef992b618f3f\n",
            "  Building wheel for sacremoses (setup.py) ... \u001b[?25l\u001b[?25hdone\n",
            "  Created wheel for sacremoses: filename=sacremoses-0.0.43-cp36-none-any.whl size=893257 sha256=ac4eb32a53b6cf0d23bff1b4e918265ba05cf1c54f01527b7350c67067f31ecb\n",
            "  Stored in directory: /root/.cache/pip/wheels/29/3c/fd/7ce5c3f0666dab31a50123635e6fb5e19ceb42ce38d4e58f45\n",
            "Successfully built cdqa prettytable tika wget sacremoses\n",
            "\u001b[31mERROR: torchvision 0.8.1+cu101 has requirement torch==1.7.0, but you'll have torch 1.2.0 which is incompatible.\u001b[0m\n",
            "\u001b[31mERROR: spacy 2.2.4 has requirement tqdm<5.0.0,>=4.38.0, but you'll have tqdm 4.32.2 which is incompatible.\u001b[0m\n",
            "\u001b[31mERROR: google-colab 1.0.0 has requirement pandas~=1.1.0; python_version >= \"3.0\", but you'll have pandas 0.25.0 which is incompatible.\u001b[0m\n",
            "\u001b[31mERROR: fbprophet 0.7.1 has requirement pandas>=1.0.4, but you'll have pandas 0.25.0 which is incompatible.\u001b[0m\n",
            "\u001b[31mERROR: fbprophet 0.7.1 has requirement tqdm>=4.36.1, but you'll have tqdm 4.32.2 which is incompatible.\u001b[0m\n",
            "\u001b[31mERROR: botocore 1.19.28 has requirement urllib3<1.27,>=1.25.4; python_version != \"3.4\", but you'll have urllib3 1.24.3 which is incompatible.\u001b[0m\n",
            "Installing collected packages: Flask, flask-cors, joblib, pandas, prettytable, sentencepiece, tqdm, sacremoses, jmespath, botocore, s3transfer, boto3, transformers, scikit-learn, tika, torch, markdown, wget, cdqa\n",
            "  Found existing installation: Flask 1.1.2\n",
            "    Uninstalling Flask-1.1.2:\n",
            "      Successfully uninstalled Flask-1.1.2\n",
            "  Found existing installation: joblib 0.17.0\n",
            "    Uninstalling joblib-0.17.0:\n",
            "      Successfully uninstalled joblib-0.17.0\n",
            "  Found existing installation: pandas 1.1.4\n",
            "    Uninstalling pandas-1.1.4:\n",
            "      Successfully uninstalled pandas-1.1.4\n",
            "  Found existing installation: prettytable 2.0.0\n",
            "    Uninstalling prettytable-2.0.0:\n",
            "      Successfully uninstalled prettytable-2.0.0\n",
            "  Found existing installation: tqdm 4.41.1\n",
            "    Uninstalling tqdm-4.41.1:\n",
            "      Successfully uninstalled tqdm-4.41.1\n",
            "  Found existing installation: scikit-learn 0.22.2.post1\n",
            "    Uninstalling scikit-learn-0.22.2.post1:\n",
            "      Successfully uninstalled scikit-learn-0.22.2.post1\n",
            "  Found existing installation: torch 1.7.0+cu101\n",
            "    Uninstalling torch-1.7.0+cu101:\n",
            "      Successfully uninstalled torch-1.7.0+cu101\n",
            "  Found existing installation: Markdown 3.3.3\n",
            "    Uninstalling Markdown-3.3.3:\n",
            "      Successfully uninstalled Markdown-3.3.3\n",
            "Successfully installed Flask-1.1.1 boto3-1.16.28 botocore-1.19.28 cdqa-1.3.9 flask-cors-3.0.8 jmespath-0.10.0 joblib-0.13.2 markdown-3.1.1 pandas-0.25.0 prettytable-0.7.2 s3transfer-0.3.3 sacremoses-0.0.43 scikit-learn-0.21.2 sentencepiece-0.1.94 tika-1.19 torch-1.2.0 tqdm-4.32.2 transformers-2.1.1 wget-3.2\n"
          ],
          "name": "stdout"
        },
        {
          "output_type": "display_data",
          "data": {
            "application/vnd.colab-display-data+json": {
              "pip_warning": {
                "packages": [
                  "pandas"
                ]
              }
            }
          },
          "metadata": {
            "tags": []
          }
        },
        {
          "output_type": "stream",
          "text": [
            "Collecting flask-ngrok\n",
            "  Downloading https://files.pythonhosted.org/packages/af/6c/f54cb686ad1129e27d125d182f90f52b32f284e6c8df58c1bae54fa1adbc/flask_ngrok-0.0.25-py3-none-any.whl\n",
            "Requirement already satisfied: requests in /usr/local/lib/python3.6/dist-packages (from flask-ngrok) (2.23.0)\n",
            "Requirement already satisfied: Flask>=0.8 in /usr/local/lib/python3.6/dist-packages (from flask-ngrok) (1.1.1)\n",
            "Requirement already satisfied: certifi>=2017.4.17 in /usr/local/lib/python3.6/dist-packages (from requests->flask-ngrok) (2020.11.8)\n",
            "Requirement already satisfied: chardet<4,>=3.0.2 in /usr/local/lib/python3.6/dist-packages (from requests->flask-ngrok) (3.0.4)\n",
            "Requirement already satisfied: idna<3,>=2.5 in /usr/local/lib/python3.6/dist-packages (from requests->flask-ngrok) (2.10)\n",
            "Requirement already satisfied: urllib3!=1.25.0,!=1.25.1,<1.26,>=1.21.1 in /usr/local/lib/python3.6/dist-packages (from requests->flask-ngrok) (1.24.3)\n",
            "Requirement already satisfied: Werkzeug>=0.15 in /usr/local/lib/python3.6/dist-packages (from Flask>=0.8->flask-ngrok) (1.0.1)\n",
            "Requirement already satisfied: itsdangerous>=0.24 in /usr/local/lib/python3.6/dist-packages (from Flask>=0.8->flask-ngrok) (1.1.0)\n",
            "Requirement already satisfied: Jinja2>=2.10.1 in /usr/local/lib/python3.6/dist-packages (from Flask>=0.8->flask-ngrok) (2.11.2)\n",
            "Requirement already satisfied: click>=5.1 in /usr/local/lib/python3.6/dist-packages (from Flask>=0.8->flask-ngrok) (7.1.2)\n",
            "Requirement already satisfied: MarkupSafe>=0.23 in /usr/local/lib/python3.6/dist-packages (from Jinja2>=2.10.1->Flask>=0.8->flask-ngrok) (1.1.1)\n",
            "Installing collected packages: flask-ngrok\n",
            "Successfully installed flask-ngrok-0.0.25\n"
          ],
          "name": "stdout"
        }
      ]
    },
    {
      "cell_type": "code",
      "metadata": {
        "ExecuteTime": {
          "end_time": "2019-07-20T13:41:40.814076Z",
          "start_time": "2019-07-20T13:41:39.440654Z"
        },
        "colab": {
          "base_uri": "https://localhost:8080/"
        },
        "id": "7UMrjUJ2EGmu",
        "outputId": "0ce633d6-87de-4d6d-ab6c-0333ed55934d"
      },
      "source": [
        "import os\n",
        "import pandas as pd\n",
        "from ast import literal_eval\n",
        "\n",
        "from cdqa.utils.converters import pdf_converter\n",
        "from cdqa.pipeline import QAPipeline\n",
        "from cdqa.utils.download import download_model"
      ],
      "execution_count": null,
      "outputs": [
        {
          "output_type": "stream",
          "text": [
            "/usr/local/lib/python3.6/dist-packages/tqdm/autonotebook/__init__.py:18: TqdmExperimentalWarning: Using `tqdm.autonotebook.tqdm` in notebook mode. Use `tqdm.tqdm` instead to force console mode (e.g. in jupyter console)\n",
            "  \" (e.g. in jupyter console)\", TqdmExperimentalWarning)\n"
          ],
          "name": "stderr"
        }
      ]
    },
    {
      "cell_type": "code",
      "metadata": {
        "ExecuteTime": {
          "end_time": "2019-07-20T13:42:54.139892Z",
          "start_time": "2019-07-20T13:41:41.869993Z"
        },
        "id": "4GwZpi1pfQk1",
        "colab": {
          "base_uri": "https://localhost:8080/"
        },
        "outputId": "f07d8cf4-6da2-4945-d085-2b5375bb9ab4"
      },
      "source": [
        "download_model(model='bert-squad_1.1', dir='./models')"
      ],
      "execution_count": null,
      "outputs": [
        {
          "output_type": "stream",
          "text": [
            "\n",
            "Downloading trained model...\n"
          ],
          "name": "stdout"
        }
      ]
    },
    {
      "cell_type": "code",
      "metadata": {
        "colab": {
          "base_uri": "https://localhost:8080/"
        },
        "id": "_vY9gwp2yNG8",
        "outputId": "ec483001-9b5f-4199-adf4-ae67615c9275"
      },
      "source": [
        "!ls models"
      ],
      "execution_count": null,
      "outputs": [
        {
          "output_type": "stream",
          "text": [
            "bert_qa.joblib\n"
          ],
          "name": "stdout"
        }
      ]
    },
    {
      "cell_type": "code",
      "metadata": {
        "id": "HjOo8lkBO4kI"
      },
      "source": [
        "!mkdir docs"
      ],
      "execution_count": null,
      "outputs": []
    },
    {
      "cell_type": "code",
      "metadata": {
        "colab": {
          "base_uri": "https://localhost:8080/"
        },
        "id": "oCpv9t72OM01",
        "outputId": "423bc476-ca56-47ed-a6da-83022d3627e4"
      },
      "source": [
        "!wget -P ./docs/ https://s2.q4cdn.com/299287126/files/doc_financials/2020/q3/AMZN-Q3-2020-Earnings-Release.pdf\n",
        "!wget -P ./docs/ https://s2.q4cdn.com/299287126/files/doc_financials/2020/q2/Q2-2020-Amazon-Earnings-Release.pdf\n",
        "!wget -P ./docs/ https://s2.q4cdn.com/299287126/files/doc_financials/2020/Q1/AMZN-Q1-2020-Earnings-Release.pdf\n",
        "!wget -P ./docs/ https://s2.q4cdn.com/299287126/files/doc_news/archive/Amazon-Q4-2019-Earnings-Release.pdf\n",
        "!wget -P ./docs/ https://s2.q4cdn.com/299287126/files/doc_news/archive/Q3-2019-Amazon-Financial-Results.pdf"
      ],
      "execution_count": null,
      "outputs": [
        {
          "output_type": "stream",
          "text": [
            "--2020-12-02 18:17:27--  https://s2.q4cdn.com/299287126/files/doc_financials/2020/q3/AMZN-Q3-2020-Earnings-Release.pdf\n",
            "Resolving s2.q4cdn.com (s2.q4cdn.com)... 161.202.39.238\n",
            "Connecting to s2.q4cdn.com (s2.q4cdn.com)|161.202.39.238|:443... connected.\n",
            "HTTP request sent, awaiting response... 200 OK\n",
            "Length: 945573 (923K) [application/pdf]\n",
            "Saving to: ‘./docs/AMZN-Q3-2020-Earnings-Release.pdf’\n",
            "\n",
            "AMZN-Q3-2020-Earnin 100%[===================>] 923.41K  --.-KB/s    in 0.08s   \n",
            "\n",
            "2020-12-02 18:17:27 (10.7 MB/s) - ‘./docs/AMZN-Q3-2020-Earnings-Release.pdf’ saved [945573/945573]\n",
            "\n",
            "--2020-12-02 18:17:27--  https://s2.q4cdn.com/299287126/files/doc_financials/2020/q2/Q2-2020-Amazon-Earnings-Release.pdf\n",
            "Resolving s2.q4cdn.com (s2.q4cdn.com)... 161.202.39.238\n",
            "Connecting to s2.q4cdn.com (s2.q4cdn.com)|161.202.39.238|:443... connected.\n",
            "HTTP request sent, awaiting response... 200 OK\n",
            "Length: 366951 (358K) [application/pdf]\n",
            "Saving to: ‘./docs/Q2-2020-Amazon-Earnings-Release.pdf’\n",
            "\n",
            "Q2-2020-Amazon-Earn 100%[===================>] 358.35K  --.-KB/s    in 0.05s   \n",
            "\n",
            "2020-12-02 18:17:27 (6.50 MB/s) - ‘./docs/Q2-2020-Amazon-Earnings-Release.pdf’ saved [366951/366951]\n",
            "\n",
            "--2020-12-02 18:17:27--  https://s2.q4cdn.com/299287126/files/doc_financials/2020/Q1/AMZN-Q1-2020-Earnings-Release.pdf\n",
            "Resolving s2.q4cdn.com (s2.q4cdn.com)... 161.202.39.238\n",
            "Connecting to s2.q4cdn.com (s2.q4cdn.com)|161.202.39.238|:443... connected.\n",
            "HTTP request sent, awaiting response... 200 OK\n",
            "Length: 536732 (524K) [application/pdf]\n",
            "Saving to: ‘./docs/AMZN-Q1-2020-Earnings-Release.pdf’\n",
            "\n",
            "AMZN-Q1-2020-Earnin 100%[===================>] 524.15K  --.-KB/s    in 0.07s   \n",
            "\n",
            "2020-12-02 18:17:27 (6.94 MB/s) - ‘./docs/AMZN-Q1-2020-Earnings-Release.pdf’ saved [536732/536732]\n",
            "\n",
            "--2020-12-02 18:17:27--  https://s2.q4cdn.com/299287126/files/doc_news/archive/Amazon-Q4-2019-Earnings-Release.pdf\n",
            "Resolving s2.q4cdn.com (s2.q4cdn.com)... 161.202.39.238\n",
            "Connecting to s2.q4cdn.com (s2.q4cdn.com)|161.202.39.238|:443... connected.\n",
            "HTTP request sent, awaiting response... 200 OK\n",
            "Length: 637064 (622K) [application/pdf]\n",
            "Saving to: ‘./docs/Amazon-Q4-2019-Earnings-Release.pdf’\n",
            "\n",
            "Amazon-Q4-2019-Earn 100%[===================>] 622.13K   536KB/s    in 1.2s    \n",
            "\n",
            "2020-12-02 18:17:30 (536 KB/s) - ‘./docs/Amazon-Q4-2019-Earnings-Release.pdf’ saved [637064/637064]\n",
            "\n",
            "--2020-12-02 18:17:30--  https://s2.q4cdn.com/299287126/files/doc_news/archive/Q3-2019-Amazon-Financial-Results.pdf\n",
            "Resolving s2.q4cdn.com (s2.q4cdn.com)... 161.202.39.238\n",
            "Connecting to s2.q4cdn.com (s2.q4cdn.com)|161.202.39.238|:443... connected.\n",
            "HTTP request sent, awaiting response... 200 OK\n",
            "Length: 545031 (532K) [application/pdf]\n",
            "Saving to: ‘./docs/Q3-2019-Amazon-Financial-Results.pdf’\n",
            "\n",
            "Q3-2019-Amazon-Fina 100%[===================>] 532.26K   593KB/s    in 0.9s    \n",
            "\n",
            "2020-12-02 18:17:31 (593 KB/s) - ‘./docs/Q3-2019-Amazon-Financial-Results.pdf’ saved [545031/545031]\n",
            "\n"
          ],
          "name": "stdout"
        }
      ]
    },
    {
      "cell_type": "code",
      "metadata": {
        "ExecuteTime": {
          "end_time": "2019-07-20T13:44:01.821890Z",
          "start_time": "2019-07-20T13:43:22.685954Z"
        },
        "colab": {
          "base_uri": "https://localhost:8080/",
          "height": 578
        },
        "id": "czafu4-aEXXm",
        "outputId": "2a152068-3dfa-46e3-d8a6-561ce704ee8a"
      },
      "source": [
        "df = pdf_converter(directory_path='./docs/')\n",
        "df.head()"
      ],
      "execution_count": null,
      "outputs": [
        {
          "output_type": "stream",
          "text": [
            "2020-12-02 18:17:32,028 [MainThread  ] [INFO ]  Retrieving http://search.maven.org/remotecontent?filepath=org/apache/tika/tika-server/1.19/tika-server-1.19.jar to /tmp/tika-server.jar.\n",
            "2020-12-02 18:17:39,242 [MainThread  ] [INFO ]  Retrieving http://search.maven.org/remotecontent?filepath=org/apache/tika/tika-server/1.19/tika-server-1.19.jar.md5 to /tmp/tika-server.jar.md5.\n",
            "2020-12-02 18:17:40,998 [MainThread  ] [WARNI]  Failed to see startup log message; retrying...\n"
          ],
          "name": "stderr"
        },
        {
          "output_type": "error",
          "ename": "ImportError",
          "evalue": "ignored",
          "traceback": [
            "\u001b[0;31m---------------------------------------------------------------------------\u001b[0m",
            "\u001b[0;31mImportError\u001b[0m                               Traceback (most recent call last)",
            "\u001b[0;32m/usr/local/lib/python3.6/dist-packages/IPython/core/formatters.py\u001b[0m in \u001b[0;36m__call__\u001b[0;34m(self, obj)\u001b[0m\n\u001b[1;32m    336\u001b[0m             \u001b[0mmethod\u001b[0m \u001b[0;34m=\u001b[0m \u001b[0mget_real_method\u001b[0m\u001b[0;34m(\u001b[0m\u001b[0mobj\u001b[0m\u001b[0;34m,\u001b[0m \u001b[0mself\u001b[0m\u001b[0;34m.\u001b[0m\u001b[0mprint_method\u001b[0m\u001b[0;34m)\u001b[0m\u001b[0;34m\u001b[0m\u001b[0;34m\u001b[0m\u001b[0m\n\u001b[1;32m    337\u001b[0m             \u001b[0;32mif\u001b[0m \u001b[0mmethod\u001b[0m \u001b[0;32mis\u001b[0m \u001b[0;32mnot\u001b[0m \u001b[0;32mNone\u001b[0m\u001b[0;34m:\u001b[0m\u001b[0;34m\u001b[0m\u001b[0;34m\u001b[0m\u001b[0m\n\u001b[0;32m--> 338\u001b[0;31m                 \u001b[0;32mreturn\u001b[0m \u001b[0mmethod\u001b[0m\u001b[0;34m(\u001b[0m\u001b[0;34m)\u001b[0m\u001b[0;34m\u001b[0m\u001b[0;34m\u001b[0m\u001b[0m\n\u001b[0m\u001b[1;32m    339\u001b[0m             \u001b[0;32mreturn\u001b[0m \u001b[0;32mNone\u001b[0m\u001b[0;34m\u001b[0m\u001b[0;34m\u001b[0m\u001b[0m\n\u001b[1;32m    340\u001b[0m         \u001b[0;32melse\u001b[0m\u001b[0;34m:\u001b[0m\u001b[0;34m\u001b[0m\u001b[0;34m\u001b[0m\u001b[0m\n",
            "\u001b[0;32m/usr/local/lib/python3.6/dist-packages/pandas/core/frame.py\u001b[0m in \u001b[0;36m_repr_html_\u001b[0;34m(self)\u001b[0m\n\u001b[1;32m    796\u001b[0m         \u001b[0mDataFrame\u001b[0m\u001b[0;34m.\u001b[0m\u001b[0mitertuples\u001b[0m \u001b[0;34m:\u001b[0m \u001b[0mIterate\u001b[0m \u001b[0mover\u001b[0m \u001b[0mDataFrame\u001b[0m \u001b[0mrows\u001b[0m \u001b[0;32mas\u001b[0m \u001b[0mnamedtuples\u001b[0m\u001b[0;34m\u001b[0m\u001b[0;34m\u001b[0m\u001b[0m\n\u001b[1;32m    797\u001b[0m             \u001b[0mof\u001b[0m \u001b[0mthe\u001b[0m \u001b[0mvalues\u001b[0m\u001b[0;34m.\u001b[0m\u001b[0;34m\u001b[0m\u001b[0;34m\u001b[0m\u001b[0m\n\u001b[0;32m--> 798\u001b[0;31m \u001b[0;34m\u001b[0m\u001b[0m\n\u001b[0m\u001b[1;32m    799\u001b[0m         \u001b[0mExamples\u001b[0m\u001b[0;34m\u001b[0m\u001b[0;34m\u001b[0m\u001b[0m\n\u001b[1;32m    800\u001b[0m         \u001b[0;34m-\u001b[0m\u001b[0;34m-\u001b[0m\u001b[0;34m-\u001b[0m\u001b[0;34m-\u001b[0m\u001b[0;34m-\u001b[0m\u001b[0;34m-\u001b[0m\u001b[0;34m-\u001b[0m\u001b[0;34m-\u001b[0m\u001b[0;34m\u001b[0m\u001b[0;34m\u001b[0m\u001b[0m\n",
            "\u001b[0;32m/usr/local/lib/python3.6/dist-packages/pandas/io/formats/format.py\u001b[0m in \u001b[0;36mto_html\u001b[0;34m(self, buf, encoding, classes, notebook, border)\u001b[0m\n\u001b[1;32m    983\u001b[0m         \u001b[0mWhether\u001b[0m \u001b[0mthe\u001b[0m \u001b[0marray\u001b[0m \u001b[0mshould\u001b[0m \u001b[0mbe\u001b[0m \u001b[0mformatted\u001b[0m \u001b[0;32mwith\u001b[0m \u001b[0ma\u001b[0m \u001b[0mleading\u001b[0m \u001b[0mspace\u001b[0m\u001b[0;34m.\u001b[0m\u001b[0;34m\u001b[0m\u001b[0;34m\u001b[0m\u001b[0m\n\u001b[1;32m    984\u001b[0m         \u001b[0mWhen\u001b[0m \u001b[0man\u001b[0m \u001b[0marray\u001b[0m \u001b[0;32mas\u001b[0m \u001b[0ma\u001b[0m \u001b[0mcolumn\u001b[0m \u001b[0mof\u001b[0m \u001b[0ma\u001b[0m \u001b[0mSeries\u001b[0m \u001b[0;32mor\u001b[0m \u001b[0mDataFrame\u001b[0m\u001b[0;34m,\u001b[0m \u001b[0mwe\u001b[0m \u001b[0mdo\u001b[0m \u001b[0mwant\u001b[0m\u001b[0;34m\u001b[0m\u001b[0;34m\u001b[0m\u001b[0m\n\u001b[0;32m--> 985\u001b[0;31m         \u001b[0mthe\u001b[0m \u001b[0mleading\u001b[0m \u001b[0mspace\u001b[0m \u001b[0mto\u001b[0m \u001b[0mpad\u001b[0m \u001b[0mbetween\u001b[0m \u001b[0mcolumns\u001b[0m\u001b[0;34m.\u001b[0m\u001b[0;34m\u001b[0m\u001b[0;34m\u001b[0m\u001b[0m\n\u001b[0m\u001b[1;32m    986\u001b[0m \u001b[0;34m\u001b[0m\u001b[0m\n\u001b[1;32m    987\u001b[0m         \u001b[0mWhen\u001b[0m \u001b[0mformatting\u001b[0m \u001b[0man\u001b[0m \u001b[0mIndex\u001b[0m \u001b[0msubclass\u001b[0m\u001b[0;34m\u001b[0m\u001b[0;34m\u001b[0m\u001b[0m\n",
            "\u001b[0;32m/usr/local/lib/python3.6/dist-packages/pandas/io/formats/html.py\u001b[0m in \u001b[0;36m<module>\u001b[0;34m()\u001b[0m\n\u001b[1;32m     13\u001b[0m \u001b[0;32mfrom\u001b[0m \u001b[0mpandas\u001b[0m \u001b[0;32mimport\u001b[0m \u001b[0moption_context\u001b[0m\u001b[0;34m\u001b[0m\u001b[0;34m\u001b[0m\u001b[0m\n\u001b[1;32m     14\u001b[0m \u001b[0;34m\u001b[0m\u001b[0m\n\u001b[0;32m---> 15\u001b[0;31m \u001b[0;32mfrom\u001b[0m \u001b[0mpandas\u001b[0m\u001b[0;34m.\u001b[0m\u001b[0mio\u001b[0m\u001b[0;34m.\u001b[0m\u001b[0mcommon\u001b[0m \u001b[0;32mimport\u001b[0m \u001b[0m_is_url\u001b[0m\u001b[0;34m\u001b[0m\u001b[0;34m\u001b[0m\u001b[0m\n\u001b[0m\u001b[1;32m     16\u001b[0m from pandas.io.formats.format import (\n\u001b[1;32m     17\u001b[0m     \u001b[0mDataFrameFormatter\u001b[0m\u001b[0;34m,\u001b[0m\u001b[0;34m\u001b[0m\u001b[0;34m\u001b[0m\u001b[0m\n",
            "\u001b[0;31mImportError\u001b[0m: cannot import name '_is_url'"
          ]
        },
        {
          "output_type": "execute_result",
          "data": {
            "text/plain": [
              "                              title                                         paragraphs\n",
              "0   Amazon-Q4-2019-Earnings-Release  [Microsoft Word - AMZN-2019.12.31-EX99.1 (10) ...\n",
              "1     AMZN-Q3-2020-Earnings-Release  [Microsoft Word - AMZN-Q3-2020-Earnings-Releas...\n",
              "2   Q2-2020-Amazon-Earnings-Release  [AMZN-2020.06.30-EX99.1 AMAZON.COM ANNOUNCES S...\n",
              "3  Q3-2019-Amazon-Financial-Results  [Microsoft Word - AMZN-2019.9.30-EX99.1_102419...\n",
              "4     AMZN-Q1-2020-Earnings-Release  [Microsoft Word - Earnings Release_4.30.20_12P..."
            ]
          },
          "metadata": {
            "tags": []
          },
          "execution_count": 7
        }
      ]
    },
    {
      "cell_type": "code",
      "metadata": {
        "colab": {
          "base_uri": "https://localhost:8080/",
          "height": 504
        },
        "id": "s7Ns2UsmROD8",
        "outputId": "22c2f26e-2631-4482-c052-b9de76b78983"
      },
      "source": [
        "# pd.set_option('display.max_colwidth', -1)\n",
        "df.head()"
      ],
      "execution_count": null,
      "outputs": [
        {
          "output_type": "error",
          "ename": "ImportError",
          "evalue": "ignored",
          "traceback": [
            "\u001b[0;31m---------------------------------------------------------------------------\u001b[0m",
            "\u001b[0;31mImportError\u001b[0m                               Traceback (most recent call last)",
            "\u001b[0;32m/usr/local/lib/python3.6/dist-packages/IPython/core/formatters.py\u001b[0m in \u001b[0;36m__call__\u001b[0;34m(self, obj)\u001b[0m\n\u001b[1;32m    336\u001b[0m             \u001b[0mmethod\u001b[0m \u001b[0;34m=\u001b[0m \u001b[0mget_real_method\u001b[0m\u001b[0;34m(\u001b[0m\u001b[0mobj\u001b[0m\u001b[0;34m,\u001b[0m \u001b[0mself\u001b[0m\u001b[0;34m.\u001b[0m\u001b[0mprint_method\u001b[0m\u001b[0;34m)\u001b[0m\u001b[0;34m\u001b[0m\u001b[0;34m\u001b[0m\u001b[0m\n\u001b[1;32m    337\u001b[0m             \u001b[0;32mif\u001b[0m \u001b[0mmethod\u001b[0m \u001b[0;32mis\u001b[0m \u001b[0;32mnot\u001b[0m \u001b[0;32mNone\u001b[0m\u001b[0;34m:\u001b[0m\u001b[0;34m\u001b[0m\u001b[0;34m\u001b[0m\u001b[0m\n\u001b[0;32m--> 338\u001b[0;31m                 \u001b[0;32mreturn\u001b[0m \u001b[0mmethod\u001b[0m\u001b[0;34m(\u001b[0m\u001b[0;34m)\u001b[0m\u001b[0;34m\u001b[0m\u001b[0;34m\u001b[0m\u001b[0m\n\u001b[0m\u001b[1;32m    339\u001b[0m             \u001b[0;32mreturn\u001b[0m \u001b[0;32mNone\u001b[0m\u001b[0;34m\u001b[0m\u001b[0;34m\u001b[0m\u001b[0m\n\u001b[1;32m    340\u001b[0m         \u001b[0;32melse\u001b[0m\u001b[0;34m:\u001b[0m\u001b[0;34m\u001b[0m\u001b[0;34m\u001b[0m\u001b[0m\n",
            "\u001b[0;32m/usr/local/lib/python3.6/dist-packages/pandas/core/frame.py\u001b[0m in \u001b[0;36m_repr_html_\u001b[0;34m(self)\u001b[0m\n\u001b[1;32m    796\u001b[0m         \u001b[0mDataFrame\u001b[0m\u001b[0;34m.\u001b[0m\u001b[0mitertuples\u001b[0m \u001b[0;34m:\u001b[0m \u001b[0mIterate\u001b[0m \u001b[0mover\u001b[0m \u001b[0mDataFrame\u001b[0m \u001b[0mrows\u001b[0m \u001b[0;32mas\u001b[0m \u001b[0mnamedtuples\u001b[0m\u001b[0;34m\u001b[0m\u001b[0;34m\u001b[0m\u001b[0m\n\u001b[1;32m    797\u001b[0m             \u001b[0mof\u001b[0m \u001b[0mthe\u001b[0m \u001b[0mvalues\u001b[0m\u001b[0;34m.\u001b[0m\u001b[0;34m\u001b[0m\u001b[0;34m\u001b[0m\u001b[0m\n\u001b[0;32m--> 798\u001b[0;31m \u001b[0;34m\u001b[0m\u001b[0m\n\u001b[0m\u001b[1;32m    799\u001b[0m         \u001b[0mExamples\u001b[0m\u001b[0;34m\u001b[0m\u001b[0;34m\u001b[0m\u001b[0m\n\u001b[1;32m    800\u001b[0m         \u001b[0;34m-\u001b[0m\u001b[0;34m-\u001b[0m\u001b[0;34m-\u001b[0m\u001b[0;34m-\u001b[0m\u001b[0;34m-\u001b[0m\u001b[0;34m-\u001b[0m\u001b[0;34m-\u001b[0m\u001b[0;34m-\u001b[0m\u001b[0;34m\u001b[0m\u001b[0;34m\u001b[0m\u001b[0m\n",
            "\u001b[0;32m/usr/local/lib/python3.6/dist-packages/pandas/io/formats/format.py\u001b[0m in \u001b[0;36mto_html\u001b[0;34m(self, buf, encoding, classes, notebook, border)\u001b[0m\n\u001b[1;32m    983\u001b[0m         \u001b[0mWhether\u001b[0m \u001b[0mthe\u001b[0m \u001b[0marray\u001b[0m \u001b[0mshould\u001b[0m \u001b[0mbe\u001b[0m \u001b[0mformatted\u001b[0m \u001b[0;32mwith\u001b[0m \u001b[0ma\u001b[0m \u001b[0mleading\u001b[0m \u001b[0mspace\u001b[0m\u001b[0;34m.\u001b[0m\u001b[0;34m\u001b[0m\u001b[0;34m\u001b[0m\u001b[0m\n\u001b[1;32m    984\u001b[0m         \u001b[0mWhen\u001b[0m \u001b[0man\u001b[0m \u001b[0marray\u001b[0m \u001b[0;32mas\u001b[0m \u001b[0ma\u001b[0m \u001b[0mcolumn\u001b[0m \u001b[0mof\u001b[0m \u001b[0ma\u001b[0m \u001b[0mSeries\u001b[0m \u001b[0;32mor\u001b[0m \u001b[0mDataFrame\u001b[0m\u001b[0;34m,\u001b[0m \u001b[0mwe\u001b[0m \u001b[0mdo\u001b[0m \u001b[0mwant\u001b[0m\u001b[0;34m\u001b[0m\u001b[0;34m\u001b[0m\u001b[0m\n\u001b[0;32m--> 985\u001b[0;31m         \u001b[0mthe\u001b[0m \u001b[0mleading\u001b[0m \u001b[0mspace\u001b[0m \u001b[0mto\u001b[0m \u001b[0mpad\u001b[0m \u001b[0mbetween\u001b[0m \u001b[0mcolumns\u001b[0m\u001b[0;34m.\u001b[0m\u001b[0;34m\u001b[0m\u001b[0;34m\u001b[0m\u001b[0m\n\u001b[0m\u001b[1;32m    986\u001b[0m \u001b[0;34m\u001b[0m\u001b[0m\n\u001b[1;32m    987\u001b[0m         \u001b[0mWhen\u001b[0m \u001b[0mformatting\u001b[0m \u001b[0man\u001b[0m \u001b[0mIndex\u001b[0m \u001b[0msubclass\u001b[0m\u001b[0;34m\u001b[0m\u001b[0;34m\u001b[0m\u001b[0m\n",
            "\u001b[0;32m/usr/local/lib/python3.6/dist-packages/pandas/io/formats/html.py\u001b[0m in \u001b[0;36m<module>\u001b[0;34m()\u001b[0m\n\u001b[1;32m     13\u001b[0m \u001b[0;32mfrom\u001b[0m \u001b[0mpandas\u001b[0m \u001b[0;32mimport\u001b[0m \u001b[0moption_context\u001b[0m\u001b[0;34m\u001b[0m\u001b[0;34m\u001b[0m\u001b[0m\n\u001b[1;32m     14\u001b[0m \u001b[0;34m\u001b[0m\u001b[0m\n\u001b[0;32m---> 15\u001b[0;31m \u001b[0;32mfrom\u001b[0m \u001b[0mpandas\u001b[0m\u001b[0;34m.\u001b[0m\u001b[0mio\u001b[0m\u001b[0;34m.\u001b[0m\u001b[0mcommon\u001b[0m \u001b[0;32mimport\u001b[0m \u001b[0m_is_url\u001b[0m\u001b[0;34m\u001b[0m\u001b[0;34m\u001b[0m\u001b[0m\n\u001b[0m\u001b[1;32m     16\u001b[0m from pandas.io.formats.format import (\n\u001b[1;32m     17\u001b[0m     \u001b[0mDataFrameFormatter\u001b[0m\u001b[0;34m,\u001b[0m\u001b[0;34m\u001b[0m\u001b[0;34m\u001b[0m\u001b[0m\n",
            "\u001b[0;31mImportError\u001b[0m: cannot import name '_is_url'"
          ]
        },
        {
          "output_type": "execute_result",
          "data": {
            "text/plain": [
              "                              title                                         paragraphs\n",
              "0   Amazon-Q4-2019-Earnings-Release  [Microsoft Word - AMZN-2019.12.31-EX99.1 (10) ...\n",
              "1     AMZN-Q3-2020-Earnings-Release  [Microsoft Word - AMZN-Q3-2020-Earnings-Releas...\n",
              "2   Q2-2020-Amazon-Earnings-Release  [AMZN-2020.06.30-EX99.1 AMAZON.COM ANNOUNCES S...\n",
              "3  Q3-2019-Amazon-Financial-Results  [Microsoft Word - AMZN-2019.9.30-EX99.1_102419...\n",
              "4     AMZN-Q1-2020-Earnings-Release  [Microsoft Word - Earnings Release_4.30.20_12P..."
            ]
          },
          "metadata": {
            "tags": []
          },
          "execution_count": 8
        }
      ]
    },
    {
      "cell_type": "code",
      "metadata": {
        "ExecuteTime": {
          "end_time": "2019-07-20T13:44:46.283172Z",
          "start_time": "2019-07-20T13:44:45.317024Z"
        },
        "colab": {
          "base_uri": "https://localhost:8080/"
        },
        "id": "8OOqnkNyEaFe",
        "outputId": "48a65828-69ad-4644-f593-247e105ee81c"
      },
      "source": [
        "cdqa_pipeline = QAPipeline(reader='./models/bert_qa.joblib', max_df=1.0)\n",
        "\n",
        "cdqa_pipeline.fit_retriever(df=df)"
      ],
      "execution_count": null,
      "outputs": [
        {
          "output_type": "stream",
          "text": [
            "100%|██████████| 231508/231508 [00:00<00:00, 323263.68B/s]\n"
          ],
          "name": "stderr"
        },
        {
          "output_type": "execute_result",
          "data": {
            "text/plain": [
              "QAPipeline(reader=BertQA(adam_epsilon=1e-08, bert_model='bert-base-uncased',\n",
              "                         do_lower_case=True, fp16=False,\n",
              "                         gradient_accumulation_steps=1, learning_rate=5e-05,\n",
              "                         local_rank=-1, loss_scale=0, max_answer_length=30,\n",
              "                         n_best_size=20, no_cuda=False,\n",
              "                         null_score_diff_threshold=0.0, num_train_epochs=3.0,\n",
              "                         output_dir=None, predict_batch_size=8, seed=42,\n",
              "                         server_ip='', server_po..._size=8,\n",
              "                         verbose_logging=False, version_2_with_negative=False,\n",
              "                         warmup_proportion=0.1, warmup_steps=0),\n",
              "           retrieve_by_doc=False,\n",
              "           retriever=BM25Retriever(b=0.75, floor=None, k1=2.0, lowercase=True,\n",
              "                                   max_df=1.0, min_df=2, ngram_range=(1, 2),\n",
              "                                   preprocessor=None, stop_words='english',\n",
              "                                   token_pattern='(?u)\\\\b\\\\w\\\\w+\\\\b',\n",
              "                                   tokenizer=None, top_n=20, verbose=False,\n",
              "                                   vocabulary=None))"
            ]
          },
          "metadata": {
            "tags": []
          },
          "execution_count": 9
        }
      ]
    },
    {
      "cell_type": "code",
      "metadata": {
        "colab": {
          "base_uri": "https://localhost:8080/"
        },
        "id": "DBXWSfsx4bQB",
        "outputId": "f5b95893-a56a-438b-b40a-61ec98f97e4a"
      },
      "source": [
        "import joblib\n",
        "# cdqa_pipeline.to(\"cpu\")\n",
        "joblib.dump(cdqa_pipeline, './models/bert_qa_customc.joblib')"
      ],
      "execution_count": null,
      "outputs": [
        {
          "output_type": "execute_result",
          "data": {
            "text/plain": [
              "['./models/bert_qa_customc.joblib']"
            ]
          },
          "metadata": {
            "tags": []
          },
          "execution_count": 10
        }
      ]
    },
    {
      "cell_type": "code",
      "metadata": {
        "colab": {
          "base_uri": "https://localhost:8080/"
        },
        "id": "FEmrQKX3yjez",
        "outputId": "7607f92d-c836-4c83-d2e0-3b073c593eac"
      },
      "source": [
        "cdqa_pipeline=joblib.load('./models/bert_qa_customc.joblib')\n",
        "cdqa_pipeline"
      ],
      "execution_count": null,
      "outputs": [
        {
          "output_type": "execute_result",
          "data": {
            "text/plain": [
              "QAPipeline(reader=BertQA(adam_epsilon=1e-08, bert_model='bert-base-uncased',\n",
              "                         do_lower_case=True, fp16=False,\n",
              "                         gradient_accumulation_steps=1, learning_rate=5e-05,\n",
              "                         local_rank=-1, loss_scale=0, max_answer_length=30,\n",
              "                         n_best_size=20, no_cuda=False,\n",
              "                         null_score_diff_threshold=0.0, num_train_epochs=3.0,\n",
              "                         output_dir=None, predict_batch_size=8, seed=42,\n",
              "                         server_ip='', server_po..._size=8,\n",
              "                         verbose_logging=False, version_2_with_negative=False,\n",
              "                         warmup_proportion=0.1, warmup_steps=0),\n",
              "           retrieve_by_doc=False,\n",
              "           retriever=BM25Retriever(b=0.75, floor=None, k1=2.0, lowercase=True,\n",
              "                                   max_df=1.0, min_df=2, ngram_range=(1, 2),\n",
              "                                   preprocessor=None, stop_words='english',\n",
              "                                   token_pattern='(?u)\\\\b\\\\w\\\\w+\\\\b',\n",
              "                                   tokenizer=None, top_n=20, verbose=False,\n",
              "                                   vocabulary=None))"
            ]
          },
          "metadata": {
            "tags": []
          },
          "execution_count": 11
        }
      ]
    },
    {
      "cell_type": "code",
      "metadata": {
        "ExecuteTime": {
          "end_time": "2019-07-20T13:54:57.200016Z",
          "start_time": "2019-07-20T13:44:49.005187Z"
        },
        "id": "POH2gjywEcNb"
      },
      "source": [
        "query = 'How much is increase in operating cash flow?'\n",
        "prediction = cdqa_pipeline.predict(query, 3)"
      ],
      "execution_count": null,
      "outputs": []
    },
    {
      "cell_type": "code",
      "metadata": {
        "colab": {
          "base_uri": "https://localhost:8080/"
        },
        "id": "iTI3VGCX1Fn3",
        "outputId": "785cdf84-8a60-421f-c4f7-620aa93df537"
      },
      "source": [
        "cdqa_pipeline"
      ],
      "execution_count": null,
      "outputs": [
        {
          "output_type": "execute_result",
          "data": {
            "text/plain": [
              "QAPipeline(reader=BertQA(adam_epsilon=1e-08, bert_model='bert-base-uncased',\n",
              "                         do_lower_case=True, fp16=False,\n",
              "                         gradient_accumulation_steps=1, learning_rate=5e-05,\n",
              "                         local_rank=-1, loss_scale=0, max_answer_length=30,\n",
              "                         n_best_size=20, no_cuda=False,\n",
              "                         null_score_diff_threshold=0.0, num_train_epochs=3.0,\n",
              "                         output_dir=None, predict_batch_size=8, seed=42,\n",
              "                         server_ip='', server_po..._size=8,\n",
              "                         verbose_logging=False, version_2_with_negative=False,\n",
              "                         warmup_proportion=0.1, warmup_steps=0),\n",
              "           retrieve_by_doc=False,\n",
              "           retriever=BM25Retriever(b=0.75, floor=None, k1=2.0, lowercase=True,\n",
              "                                   max_df=1.0, min_df=2, ngram_range=(1, 2),\n",
              "                                   preprocessor=None, stop_words='english',\n",
              "                                   token_pattern='(?u)\\\\b\\\\w\\\\w+\\\\b',\n",
              "                                   tokenizer=None, top_n=20, verbose=False,\n",
              "                                   vocabulary=None))"
            ]
          },
          "metadata": {
            "tags": []
          },
          "execution_count": 13
        }
      ]
    },
    {
      "cell_type": "code",
      "metadata": {
        "ExecuteTime": {
          "end_time": "2019-07-20T13:54:57.336337Z",
          "start_time": "2019-07-20T13:54:57.318676Z"
        },
        "colab": {
          "base_uri": "https://localhost:8080/"
        },
        "id": "ThCffJekEdiC",
        "outputId": "e4ec84b4-799e-4aa0-e7aa-56169d65a673"
      },
      "source": [
        "prediction"
      ],
      "execution_count": null,
      "outputs": [
        {
          "output_type": "execute_result",
          "data": {
            "text/plain": [
              "[('16 %',\n",
              "  'AMZN-Q1-2020-Earnings-Release',\n",
              "  'Cash Flows and Shares        Operating cash flow -- trailing twelve months (TTM) $ 30,723 $ 34,360 $ 36,029 $ 35,332 $ 38,514 $ 39,732 16 %Operating cash flow -- TTM Y/Y growth 67% 89 % 65% 33 % 25 % 16 % N/A ',\n",
              "  16.822197214900093),\n",
              " ('25 %',\n",
              "  'Amazon-Q4-2019-Earnings-Release',\n",
              "  'Cash Flows and Shares        Operating cash flow -- trailing twelve months (TTM) $ 26,604 $ 30,723 $ 34,360 $ 36,029 $ 35,332 $ 38,514 25 %Operating cash flow -- TTM Y/Y growth 57% 67 % 89% 65% 33 % 25% N/A ',\n",
              "  16.39158863431867),\n",
              " ('33 %',\n",
              "  'Q3-2019-Amazon-Financial-Results',\n",
              "  'Cash Flows and Shares        Operating cash flow -- trailing twelve months (TTM) $ 21,793 $ 26,604 $ 30,723 $ 34,360 $ 36,029 $ 35,332 33 %Operating cash flow -- TTM Y/Y growth 22% 57 % 67% 89% 65 % 33 % N/A ',\n",
              "  16.184279078311285)]"
            ]
          },
          "metadata": {
            "tags": []
          },
          "execution_count": 14
        }
      ]
    },
    {
      "cell_type": "code",
      "metadata": {
        "colab": {
          "base_uri": "https://localhost:8080/"
        },
        "id": "SMcsOJ1cZfnI",
        "outputId": "32af8f9f-b328-48f2-c7c5-dc401b212956"
      },
      "source": [
        "query = 'What is latest earnings per share?'\n",
        "cdqa_pipeline.predict(query)"
      ],
      "execution_count": null,
      "outputs": [
        {
          "output_type": "execute_result",
          "data": {
            "text/plain": [
              "('$ 7.09 $ 5.01',\n",
              " 'AMZN-Q1-2020-Earnings-Release',\n",
              " 'Diluted earnings per share $ 7.09  $ 5.01 ',\n",
              " 13.915504131240677)"
            ]
          },
          "metadata": {
            "tags": []
          },
          "execution_count": 15
        }
      ]
    },
    {
      "cell_type": "code",
      "metadata": {
        "id": "1fmoydK5fmcS"
      },
      "source": [
        "query = 'How many jobs are created in 2020?'\n",
        "prediction = cdqa_pipeline.predict(query)"
      ],
      "execution_count": null,
      "outputs": []
    },
    {
      "cell_type": "code",
      "metadata": {
        "colab": {
          "base_uri": "https://localhost:8080/"
        },
        "id": "nLjtQEG6S00m",
        "outputId": "71f20ffe-aa8a-4c2e-9264-1b30120d3e2e"
      },
      "source": [
        "print('query: {}'.format(query))\n",
        "print('answer: {}'.format(prediction[0]))\n",
        "print('title: {}'.format(prediction[1]))\n",
        "print('paragraph: {}'.format(prediction[2]))"
      ],
      "execution_count": null,
      "outputs": [
        {
          "output_type": "stream",
          "text": [
            "query: How many jobs are created in 2020?\n",
            "answer: 1.1 million\n",
            "title: Q2-2020-Amazon-Earnings-Release\n",
            "paragraph: Empowering Small and Medium-Sized Businesses• Amazon released its 2020 Small and Medium-Sized Business (SMB) Impact Report, highlighting how SMBs selling in its U.S. store have sold more than 3.4 billion products in the past year and created an estimated 1.1 million jobs.• In partnership with the British small business support network “Enterprise Nation,” Amazon launched the Amazon Small Business Accelerator, which aims to support more than 200,000 small businesses across the U.K. negatively impacted by the COVID-19 crisis. Amazon hosted a week-long boot camp in the U.K. to help 1,000 offline businesses get online, and offered free services, AWS credits, training, and support.• In the U.K., Amazon worked with the British Chambers of Commerce to give up to 1,000 businesses tours of Amazon fulfillment centers, helping other companies learn from the safety measures Amazon has put in place within its own operations so the businesses can re-open safely and kick-start the economy.• Amazon in Japan launched Global Selling to allow Japanese sellers to reach new customers across 16 Amazon sites worldwide. • Amazon in India announced plans to help digitally enable micro, small, and medium businesses across the country as part of a $1 billion investment pledge. Amazon launched Local Shops on Amazon.in, offering shopkeepers and retailers with physical stores the ability to register to serve more customers from their local areas. Since launch, more than 11,000 sellers have enrolled in the program. In addition, Amazon introduced seller registration and account management services in Hindi to help businesses overcome language barriers. Since launch, more than 10,000 sellers have used Hindi to register on Amazon.in. \n"
          ],
          "name": "stdout"
        }
      ]
    },
    {
      "cell_type": "code",
      "metadata": {
        "id": "SeTIabgCS1eR"
      },
      "source": [
        "query = 'How many full time employees are on Amazon roll?'\n",
        "prediction = cdqa_pipeline.predict(query)"
      ],
      "execution_count": null,
      "outputs": []
    },
    {
      "cell_type": "code",
      "metadata": {
        "colab": {
          "base_uri": "https://localhost:8080/"
        },
        "id": "n8mx06ZNTFPi",
        "outputId": "6bbc67d4-38e4-405a-dcbd-1336909cd18f"
      },
      "source": [
        "print('query: {}'.format(query))\n",
        "print('answer: {}'.format(prediction[0]))\n",
        "print('title: {}'.format(prediction[1]))\n",
        "print('paragraph: {}'.format(prediction[2]))"
      ],
      "execution_count": null,
      "outputs": [
        {
          "output_type": "stream",
          "text": [
            "query: How many full time employees are on Amazon roll?\n",
            "answer: 650,000\n",
            "title: Q2-2020-Amazon-Earnings-Release\n",
            "paragraph: Supporting Employees• Amazon’s top priority is providing for the health and safety of our employees and partners, and the company spent more than $4 billion in the second quarter on incremental COVID-19 related initiatives to help keep employees safe, provide additional compensation to our employees and delivery partners, and deliver products to customers.• Amazon provided a one-time Thank You bonus totaling over $500 million to all front-line employees and partners who were with the company throughout the month of June.• Amazon introduced a new family backup care benefit through Care.com to 650,000 full and part-time Amazon and Whole Foods Market employees in the U.S. This benefit provides employees with up to 10 days of company-subsidized emergency backup child or adult care.• Amazon introduced Distance Assistant to help keep employees safe by providing them with live feedback on their social distancing via a 50-inch monitor. Amazon made the software and AI behind this innovation available via open source so that anyone can create their own Distance Assistant at no cost and get up and running with just a monitor, computer, and camera.• Amazon is collaborating with national medical care group Crossover Health to pilot Amazon Neighborhood Health Centers, which are new medical facilities available to Amazon employees and their families. The centers will provide access to quality, convenient care while reducing health care costs for employees and Amazon. The pilot includes 20 Crossover Health branded and operated centers in Dallas/Fort Worth, Texas; Phoenix, Arizona; Louisville, Kentucky; Detroit, Michigan; and San Bernardino/Moreno Valley, California.\n"
          ],
          "name": "stdout"
        }
      ]
    },
    {
      "cell_type": "code",
      "metadata": {
        "id": "bj3_-M3ATHKq"
      },
      "source": [
        "query = 'General Availability of which AWS services were announced?'\n",
        "prediction = cdqa_pipeline.predict(query, n_predictions=5)"
      ],
      "execution_count": null,
      "outputs": []
    },
    {
      "cell_type": "code",
      "metadata": {
        "colab": {
          "base_uri": "https://localhost:8080/"
        },
        "id": "14gyAwmcVWnL",
        "outputId": "21ff3009-ed7a-4b09-c488-6b86b4c67652"
      },
      "source": [
        "prediction"
      ],
      "execution_count": null,
      "outputs": [
        {
          "output_type": "execute_result",
          "data": {
            "text/plain": [
              "[('Amazon Detective',\n",
              "  'AMZN-Q1-2020-Earnings-Release',\n",
              "  'Amazon Web Services •  AWS announced the opening of the AWS Europe (Milan) and AWS Africa (Cape Town) Regions. AWS now spans 76 Availability Zones within 24 geographic regions, with announced plans for nine more Availability Zones and three more AWS Regions in Indonesia, Japan, and Spain.                                                        •  AWS announced the general availability of Amazon Detective, a security service that makes it easy for customers to conduct faster and more efficient investigations into security issues across their AWS workloads. Amazon Detective automatically collects log data from a customer’s resources and uses machine learning, statistical analysis, and graph theory to build interactive visualizations that help customers analyze, investigate, and quickly identify the root cause of potential security issues or suspicious activities.  •  AWS announced the general availability of Amazon Keyspaces (for Apache Cassandra), a scalable, highly available, and fully managed database service for Cassandra workloads. Amazon Keyspaces supports the same application code, ',\n",
              "  19.731956954338365),\n",
              " ('Amazon Forecast',\n",
              "  'Q3-2019-Amazon-Financial-Results',\n",
              "  'Fudan University, adopted AWS to accelerate digital transformation in order to reduce infrastructure costs and help the hospital improve its medical teaching and research. •  AWS announced the general availability of Amazon Forecast, a fully managed service that uses machine learning to deliver highly accurate forecasts based on the same technology used by Amazon. Amazon Forecast builds precise forecasts for virtually any business condition — including product demand and sales, infrastructure requirements, energy needs, and staffing levels — with predictions that are up to 50% more accurate than traditional methods. ',\n",
              "  17.49062769695725),\n",
              " ('AWS Lake Formation',\n",
              "  'Q3-2019-Amazon-Financial-Results',\n",
              "  'Amazon Forecast is easy to use and does not require machine learning experience.  •  AWS announced the general availability of AWS Lake Formation, a fully managed service that makes it easier for customers to build, secure, and manage data lakes. AWS Lake Formation simplifies and automates many of the complex manual steps usually required to create a data lake, including collecting, cleaning, and cataloging data and securely making that data available for analytics. Customers can then analyze this data using their choice of AWS analytics and machine learning services, including Amazon Redshift, Amazon Athena, and AWS Glue, with Amazon ',\n",
              "  16.715238889871774),\n",
              " ('Amazon Quantum Ledger Database (QLDB)',\n",
              "  'Q3-2019-Amazon-Financial-Results',\n",
              "  \"EMR, Amazon QuickSight, and Amazon SageMaker following in the next few months.  •  AWS announced the general availability of Amazon Quantum Ledger Database (QLDB), a fully managed service that provides a high-performance, immutable, and cryptographically verifiable ledger for applications that need a central, trusted authority to provide a permanent and complete record of transactions across industries like retail, finance, manufacturing, insurance, and human resources.  •  AWS announced the general availability of G4 instances, a new graphics processing unit (GPU)-powered Amazon Elastic Compute Cloud (Amazon EC2) instance designed to help accelerate machine learning inference and graphics-intensive workloads, both of which are computationally demanding tasks that benefit from additional GPU acceleration. G4 instances provide the industry’s most cost-effective machine learning inference for applications, as well as a cost-effective service for building and running graphics-intensive applications, such as remote graphics workstations, video transcoding, photo-realistic design, and game streaming in the cloud.  •  AWS announced the general availability of AWS IQ, a new service that helps customers quickly find, engage, and hire AWS-Certified third-party experts for on-demand project work. AWS IQ offers the tools and workspace for more secure collaboration, streamlined project tracking, and integrated billing. Customers simply log into AWS IQ, describe their AWS-specific project needs in a few sentences to get started, chat with experts to clarify details of the project, compare proposals, review expert profiles, and select the expert that best fits their needs. •  AWS announced the opening of the AWS Middle East (Bahrain) Region. Developers, startups, and enterprises, as well as government, education, and non-profit organizations, can now run their applications and serve end-users from data centers located in the Middle East, as well as leverage advanced technologies from the world's leading cloud, to drive innovation. AWS now spans 69 Availability Zones within 22 geographic regions around the world, and has announced plans for ten more Availability Zones and three more AWS Regions in Indonesia, Italy, and South Africa. •  AWS announced a 44% reduction in storage prices for Amazon Elastic File System (Amazon EFS) Infrequent Access (IA) storage class, one of the largest percentage price reductions in AWS history. Amazon EFS is a low-cost, simple to use, fully managed, and cloud-native NFS file system for Linux-based workloads that can be used with AWS services and on-premises resources. Amazon EFS IA is a storage class for Amazon EFS that is designed for files accessed less frequently, enabling customers to reduce storage costs compared to the Amazon EFS Standard storage class. AWS has reduced prices six times thus far in 2019, and this marks the 75th price reduction since its inception. •  AWS announced collaborations in the U.S. between AWS Educate and statewide educational systems in Virginia, Texas, and Louisiana, in addition to a regional collaboration in the San Francisco Bay Area to prepare the next generation for the cloud workforce. AWS also announced its first international AWS Educate Cloud Degree    collaborations in the U.K. and Bahrain. AWS Educate’s Cloud Degree initiative aims to provide full cloud degree offerings, cloud specializations, and STEM pathways for K-12, community colleges, and universities; opening up opportunities for students in high-demand cloud computing and data science fields. AWS Educate members include hundreds of thousands of students, over 10,000 educators, and over 2,400 academic institutions in over 200 countries and territories.  \",\n",
              "  15.101072596429177),\n",
              " ('AWS Snowcone',\n",
              "  'Q2-2020-Amazon-Earnings-Release',\n",
              "  'Amazon Web Services• Customers are using AWS to lessen the impact of the COVID-19 crisis on families, communities, and businesses. Examples include:• With the support of AWS hosting services, the World Health Organization (WHO) launched an app to support health workers around the world in caring for patients with COVID-19, as well as to protect themselves as they do this critical work. • Zoom, a provider of enterprise video communications, has long utilized AWS to host a significant portion of its network. In addition to offering a robust free service, since March Zoom has also offered free access to over 100,000 schools to enable them to educate students remotely. Zoom and AWS have worked together to help businesses, schools, and healthcare institutions maintain mission and business continuity as they stay safe at home. • Propel, a company focused on building software to help low-income Americans improve their financial health, developed Fresh Electronic Benefit Transfer (EBT), an app built on AWS that has helped more than three million individuals per month manage their benefits under the Supplemental Nutrition Assistance Program (SNAP), save with coupons, and find jobs.• UNC Health built a chatbot on AWS to help address increased call volumes to its COVID-19 help line, answering questions from patients seeking guidance on COVID-19 testing and what to do if they or their loved ones were exposed to the virus.  • Orange County United Way built a highly-secure mobile and web-enabled app on AWS called AssistOC that allows individuals to submit requests for financial assistance to the nonprofit’s Homelessness Prevention Program, launched in response to the current pandemic, via a smartphone or personal computer.• AWS announced several significant new customer commitments and migrations during the quarter. Examples include: • HSBC, one of the world’s largest financial services organizations, selected AWS as a key, long-term strategic cloud provider to drive their digital transformation and deliver new and personalized banking services for millions of personal banking customers worldwide.• Global market intelligence company IHS Markit selected AWS as its preferred cloud provider to help improve scalability and agility to respond to industry changes and develop new products and services.• Formula 1 is using a range of AWS services, including machine learning, for six new F1 Insights powered by AWS that will roll out during the 2020 racing season to give fans the ability to compare their favorite drivers and cars and better predict race outcomes.• Bundesliga is using AWS machine learning and analytics to enhance the fan experience for Germany’s top football league, delivering new advanced statistics through Bundesliga Match Facts powered by AWS, including Average Positions and xGoals.• Capella Space, a provider of on-demand Earth observation data via satellite-based radar, is all-in on AWS, running its entire infrastructure on AWS using a full portfolio of cloud services including AWS Ground Station to deliver satellite data to customers in minutes. • Genesys has selected AWS as the preferred cloud provider for Genesys Cloud, an all-in-one solution and leading public cloud contact center platform used by organizations around the world to manage and improve customer relationships across any channel, including voice, text, web chat, and social. • AWS announced Amazon Honeycode, a fully-managed service that allows customers to quickly build powerful mobile and web applications – with no programming required. With Amazon Honeycode, customers can create applications using the simplicity and familiarity of a spreadsheet, but with the data management capability of a database, the collaboration and notifications common in business applications, and a truly seamless web and mobile user experience to perform important business functions like managing field agents, performing PO approvals, scheduling weekly events, reporting employee or team activities, tracking task progress, following customer activity, surveying end users, managing content, inventorying resources, and more.• AWS announced the general availability of AWS Snowcone, a small, ultra-portable, rugged, and secure edge computing and data transfer device that can fit in a small backpack. At under five pounds, AWS Snowcone is the smallest member of the AWS Snow Family of devices, enabling customers to collect data, process it locally, and move it to AWS. AWS Snowcone is built to withstand harsh conditions, and is designed for a variety of use cases in environments outside of the traditional data center that lack consistent network connectivity and/or require portability.• AWS announced the general availability of AWS IoT SiteWise, a managed service that collects data from the plant floor, structures and labels the data, and generates real-time key performance indicators (KPIs) and metrics to help industrial customers make better, data-driven decisions. Customers can use SiteWise to monitor operations across facilities, quickly compute industrial performance metrics, create applications that analyze industrial equipment data to prevent costly equipment issues, and reduce gaps in production.• AWS announced the general availability of the sixth generation of Amazon Elastic Compute Cloud (Amazon EC2) with three Arm-based instances (M6g, C6g, R6g) powered by AWS-designed, Arm-based Graviton2 processors, that deliver up to 40% better price and performance than current x86 processor-based instances. • AWS announced the general availability of Amazon CodeGuru, a developer-quality service powered by machine learning that provides intelligent recommendations for improving code quality and identifying an application’s most expensive lines of code.• AWS announced the general availability of UltraWarm for Amazon Elasticsearch Service, a highly performant, fully-managed, low-cost warm storage tier that provides fast, interactive analytics of log data at one-tenth the cost of existing storage options. UltraWarm for Amazon Elasticsearch Service gives Elasticsearch customers a warm storage tier that both stores large amounts of data cost-effectively and provides the type of interactive experience that Elasticsearch customers expect.• AWS announced the general availability of Amazon Kendra, a highly accurate and easy to use enterprise search service powered by machine learning. Amazon Kendra enables organizations to index all of their internal data sources across siloes, makes that data searchable, and allows users to get precise answers to natural language queries instead of trial-and-error keyword search – all with no machine learning expertise required.• AWS and Slack announced a multi-year agreement to deliver solutions for enhanced enterprise workforce collaboration. Slack will migrate its Slack Calls capability for all voice and video calling to Amazon Chime, AWS’s communications service that lets users meet, chat, and place business calls. Slack is also leveraging AWS’s global infrastructure to support enterprise customers’ rapid adoption of its platform and to offer them data residency – the ability to choose which country or region their data is stored at rest in while fulfilling compliance requirements. • AWS announced a new, global team dedicated to accelerating innovation in the global aerospace and satellite industry. The Aerospace and Satellite Solutions team will bring AWS services and solutions to the space enterprise, and work with customers and partners around the world to: reimagine space system architectures; transform space enterprises; launch new services that process space data on Earth and in orbit; and provide secure, flexible, scalable, and cost-efficient cloud solutions to support government missions and companies advancing space around the world.• AWS announced Amazon Interactive Video Service (Amazon IVS), a managed service customers may use to set up live, interactive video streams for web or mobile applications in just a few minutes. Amazon IVS uses the same technology that powers Twitch and allows customers to configure live streams that can be delivered to millions of concurrent viewers globally with interactive features like virtual chat spaces, votes and polls, moderated question and answer sessions, and synchronized promotional elements.',\n",
              "  14.692530627945139)]"
            ]
          },
          "metadata": {
            "tags": []
          },
          "execution_count": 21
        }
      ]
    },
    {
      "cell_type": "code",
      "metadata": {
        "id": "_Y_PUEW8E36I"
      },
      "source": [
        "query = 'What is the impact of COVID on business?'\n",
        "prediction = cdqa_pipeline.predict(query, n_predictions=2)"
      ],
      "execution_count": null,
      "outputs": []
    },
    {
      "cell_type": "code",
      "metadata": {
        "colab": {
          "base_uri": "https://localhost:8080/"
        },
        "id": "Vs-O9TdwUmyU",
        "outputId": "75809cf5-47f7-47a7-a82c-a15711e733a1"
      },
      "source": [
        "print('query: {}'.format(query))\n",
        "print('answer: {}'.format(prediction[0]))\n",
        "print('title: {}'.format(prediction[1]))\n",
        "# print('paragraph: {}'.format(prediction[2]))"
      ],
      "execution_count": null,
      "outputs": [
        {
          "output_type": "stream",
          "text": [
            "query: What is the impact of COVID on business?\n",
            "answer: ('negatively impacted by the COVID-19 crisis', 'Q2-2020-Amazon-Earnings-Release', 'Empowering Small and Medium-Sized Businesses• Amazon released its 2020 Small and Medium-Sized Business (SMB) Impact Report, highlighting how SMBs selling in its U.S. store have sold more than 3.4 billion products in the past year and created an estimated 1.1 million jobs.• In partnership with the British small business support network “Enterprise Nation,” Amazon launched the Amazon Small Business Accelerator, which aims to support more than 200,000 small businesses across the U.K. negatively impacted by the COVID-19 crisis. Amazon hosted a week-long boot camp in the U.K. to help 1,000 offline businesses get online, and offered free services, AWS credits, training, and support.• In the U.K., Amazon worked with the British Chambers of Commerce to give up to 1,000 businesses tours of Amazon fulfillment centers, helping other companies learn from the safety measures Amazon has put in place within its own operations so the businesses can re-open safely and kick-start the economy.• Amazon in Japan launched Global Selling to allow Japanese sellers to reach new customers across 16 Amazon sites worldwide. • Amazon in India announced plans to help digitally enable micro, small, and medium businesses across the country as part of a $1 billion investment pledge. Amazon launched Local Shops on Amazon.in, offering shopkeepers and retailers with physical stores the ability to register to serve more customers from their local areas. Since launch, more than 11,000 sellers have enrolled in the program. In addition, Amazon introduced seller registration and account management services in Hindi to help businesses overcome language barriers. Since launch, more than 10,000 sellers have used Hindi to register on Amazon.in. ', 5.994336808684102)\n",
            "title: ('lessen the impact that COVID-19 has on families, communities, and businesses', 'AMZN-Q1-2020-Earnings-Release', 'Amazon Small Business Academy to help entrepreneurs learn how to build their businesses online. •  AWS is helping healthcare workers, medical researchers, scientists, and public health officials working to understand and fight COVID-19 by providing a centralized repository of curated, up-to-date, pre-processed, and publicly-readable datasets focused on the spread and characteristics of the virus. The AWS COVID-19 data lake, which includes data sets from Johns Hopkins University, Definitive Healthcare, Carnegie Mellon’s Delphi Research Group, and other sources, is available for anyone researching, tracking, deploying vital resources, or developing other helpful solutions and applications to combat COVID-19.   •  AWS is supporting the White House’s COVID-19 High Performance Computing Consortium, providing computing resources to advance research on diagnosis, treatment, and vaccines. •  Customers are using AWS to lessen the impact that COVID-19 has on families, communities, and businesses. Examples include: •  The New York City COVID-19 Rapid Response Coalition is using a conversational agent, which is running on AWS, to enable at-risk, elderly New Yorkers to receive accurate, timely information about medical needs.  •  The Los Angeles Unified School District is using AWS to power a new call center that is fielding IT questions, providing remote support, and enabling staff to answer calls around remote learning for 700,000 students.  •  Volunteer Surge, a nonprofit consortium, is running its online training platform on AWS to recruit, train, and deploy one million volunteer health workers. •  The World Health Organization is using AWS to build large-scale data lakes, aggregate epidemiological country data, rapidly translate medical training videos into different languages, and help global healthcare workers better treat patients. •  Cerner, a global healthcare technology company, is compiling de-identified patient data to help COVID-19 researchers and is leveraging AWS to secure and store critical information. The data is available free of charge and will support research, vaccine development, and new treatment options, allowing organizations to share information and accelerate understanding of the virus.  •  In England, the National Health Service is using AWS to analyze hospital occupancy levels, emergency room capacity, and patient wait times in order to help decide where best to allocate resources. •  AWS is helping Kentucky and West Virginia authorities address the surge in call volumes to unemployment call centers by transitioning from legacy technology that often required agents to work in the states’ offices to ', 5.076033692769894)\n"
          ],
          "name": "stdout"
        }
      ]
    },
    {
      "cell_type": "code",
      "metadata": {
        "id": "XjEoatyzUomp"
      },
      "source": [
        ""
      ],
      "execution_count": null,
      "outputs": []
    },
    {
      "cell_type": "code",
      "metadata": {
        "colab": {
          "base_uri": "https://localhost:8080/",
          "height": 409
        },
        "id": "8znu7nCzL3YQ",
        "outputId": "09773404-daa3-46db-df03-07e3b3f4a86f"
      },
      "source": [
        "from google.colab import drive\n",
        "drive.mount('/content/drive')"
      ],
      "execution_count": null,
      "outputs": [
        {
          "output_type": "stream",
          "text": [
            "Go to this URL in a browser: https://accounts.google.com/o/oauth2/auth?client_id=947318989803-6bn6qk8qdgf4n4g3pfee6491hc0brc4i.apps.googleusercontent.com&redirect_uri=urn%3aietf%3awg%3aoauth%3a2.0%3aoob&scope=email%20https%3a%2f%2fwww.googleapis.com%2fauth%2fdocs.test%20https%3a%2f%2fwww.googleapis.com%2fauth%2fdrive%20https%3a%2f%2fwww.googleapis.com%2fauth%2fdrive.photos.readonly%20https%3a%2f%2fwww.googleapis.com%2fauth%2fpeopleapi.readonly%20https%3a%2f%2fwww.googleapis.com%2fauth%2fdrive.activity.readonly&response_type=code\n",
            "\n",
            "Enter your authorization code:\n",
            "\n"
          ],
          "name": "stdout"
        },
        {
          "output_type": "error",
          "ename": "ValueError",
          "evalue": "ignored",
          "traceback": [
            "\u001b[0;31m---------------------------------------------------------------------------\u001b[0m",
            "\u001b[0;31mValueError\u001b[0m                                Traceback (most recent call last)",
            "\u001b[0;32m<ipython-input-25-d5df0069828e>\u001b[0m in \u001b[0;36m<module>\u001b[0;34m()\u001b[0m\n\u001b[1;32m      1\u001b[0m \u001b[0;32mfrom\u001b[0m \u001b[0mgoogle\u001b[0m\u001b[0;34m.\u001b[0m\u001b[0mcolab\u001b[0m \u001b[0;32mimport\u001b[0m \u001b[0mdrive\u001b[0m\u001b[0;34m\u001b[0m\u001b[0;34m\u001b[0m\u001b[0m\n\u001b[0;32m----> 2\u001b[0;31m \u001b[0mdrive\u001b[0m\u001b[0;34m.\u001b[0m\u001b[0mmount\u001b[0m\u001b[0;34m(\u001b[0m\u001b[0;34m'/content/drive'\u001b[0m\u001b[0;34m)\u001b[0m\u001b[0;34m\u001b[0m\u001b[0;34m\u001b[0m\u001b[0m\n\u001b[0m",
            "\u001b[0;32m/usr/local/lib/python3.6/dist-packages/google/colab/drive.py\u001b[0m in \u001b[0;36mmount\u001b[0;34m(mountpoint, force_remount, timeout_ms, use_metadata_server)\u001b[0m\n\u001b[1;32m    252\u001b[0m       \u001b[0mwrote_to_fifo\u001b[0m \u001b[0;34m=\u001b[0m \u001b[0;32mTrue\u001b[0m\u001b[0;34m\u001b[0m\u001b[0;34m\u001b[0m\u001b[0m\n\u001b[1;32m    253\u001b[0m     \u001b[0;32melif\u001b[0m \u001b[0mcase\u001b[0m \u001b[0;34m==\u001b[0m \u001b[0;36m5\u001b[0m\u001b[0;34m:\u001b[0m\u001b[0;34m\u001b[0m\u001b[0;34m\u001b[0m\u001b[0m\n\u001b[0;32m--> 254\u001b[0;31m       \u001b[0;32mraise\u001b[0m \u001b[0mValueError\u001b[0m\u001b[0;34m(\u001b[0m\u001b[0;34m'mount failed: invalid oauth code'\u001b[0m\u001b[0;34m)\u001b[0m\u001b[0;34m\u001b[0m\u001b[0;34m\u001b[0m\u001b[0m\n\u001b[0m\u001b[1;32m    255\u001b[0m   \u001b[0;32mif\u001b[0m \u001b[0;32mnot\u001b[0m \u001b[0mwrote_to_fifo\u001b[0m\u001b[0;34m:\u001b[0m\u001b[0;34m\u001b[0m\u001b[0;34m\u001b[0m\u001b[0m\n\u001b[1;32m    256\u001b[0m     \u001b[0;32mwith\u001b[0m \u001b[0mopen\u001b[0m\u001b[0;34m(\u001b[0m\u001b[0mfifo\u001b[0m\u001b[0;34m,\u001b[0m \u001b[0;34m'w'\u001b[0m\u001b[0;34m)\u001b[0m \u001b[0;32mas\u001b[0m \u001b[0mfifo_file\u001b[0m\u001b[0;34m:\u001b[0m\u001b[0;34m\u001b[0m\u001b[0;34m\u001b[0m\u001b[0m\n",
            "\u001b[0;31mValueError\u001b[0m: mount failed: invalid oauth code"
          ]
        }
      ]
    },
    {
      "cell_type": "code",
      "metadata": {
        "id": "DecDNFn9L4NF"
      },
      "source": [
        "!cp ./models/bert_qa_customc.joblib '/content/drive/MyDrive/'"
      ],
      "execution_count": null,
      "outputs": []
    },
    {
      "cell_type": "code",
      "metadata": {
        "id": "kAC1CEp3MBkn"
      },
      "source": [
        "\n",
        "\n",
        "'''import joblib\n",
        "import requests\n",
        "import streamlit as st\n",
        "\n",
        "# st.set_option('deprecation.showfileUploaderEncoding',False)\n",
        "st.title(\"Amazon QA WebApp\")\n",
        "st.text(\"What would you like to know regarding amazon today?\")\n",
        "\n",
        "\n",
        "@st.cache(allow_output_mutation=True)\n",
        "def load_model():\n",
        "    model=joblib.load('./models/bert_qa_customc.joblib')\n",
        "    return model\n",
        "with st.spinner('loading model into memory...'):\n",
        "    model=load_model()\n",
        "text=st.text_input(\"Enter question here\")\n",
        "if text:\n",
        "    st.write('Response:- ')\n",
        "    with st.spinner('Searching for answers'):\n",
        "        prediction=model.predict(text)\n",
        "        st.write('answer: {}'.format(prediction[0]))\n",
        "        st.write('title: {}'.format(prediction[1]))\n",
        "        st.write('paragraph: {}'.format(prediction[2]))\n",
        "    st.write('')\n",
        "'''\n"
      ],
      "execution_count": null,
      "outputs": []
    },
    {
      "cell_type": "code",
      "metadata": {
        "colab": {
          "base_uri": "https://localhost:8080/"
        },
        "id": "l0FKRwLIrx8b",
        "outputId": "a3dc7b45-be63-4f99-fa6e-dcfe075e45c4"
      },
      "source": [
        "\n",
        "\n",
        "import joblib\n",
        "import requests\n",
        "# import streamlit as st\n",
        "from flask import Flask, render_template, url_for, request\n",
        "import pandas as pd\n",
        "import pickle\n",
        "from flask_ngrok import run_with_ngrok\n",
        "model=joblib.load('./models/bert_qa_customc.joblib')\n",
        "# from sklearn.externals import joblib\n",
        "\n",
        "app = Flask(__name__)\n",
        "run_with_ngrok(app)\n",
        "\n",
        "\n",
        "@app.route('/')\n",
        "def home():\n",
        "    return 'hii'\n",
        "\n",
        "@app.route('/predict',methods=['GET'])\n",
        "def predict():\n",
        "    \n",
        "    message='amount of jobs created?'\n",
        "    prediction = model.predict(message)\n",
        "    return {'Question':message,'Prediction/Answer':list(prediction)}\n",
        "\n",
        "if __name__ == '__main__':\n",
        "    app.run()"
      ],
      "execution_count": null,
      "outputs": [
        {
          "output_type": "stream",
          "text": [
            " * Serving Flask app \"__main__\" (lazy loading)\n",
            " * Environment: production\n",
            "\u001b[31m   WARNING: This is a development server. Do not use it in a production deployment.\u001b[0m\n",
            "\u001b[2m   Use a production WSGI server instead.\u001b[0m\n",
            " * Debug mode: off\n"
          ],
          "name": "stdout"
        },
        {
          "output_type": "stream",
          "text": [
            " * Running on http://127.0.0.1:5000/ (Press CTRL+C to quit)\n"
          ],
          "name": "stderr"
        },
        {
          "output_type": "stream",
          "text": [
            " * Running on http://59a14203c1fa.ngrok.io\n",
            " * Traffic stats available on http://127.0.0.1:4040\n"
          ],
          "name": "stdout"
        },
        {
          "output_type": "stream",
          "text": [
            "127.0.0.1 - - [02/Dec/2020 18:38:25] \"\u001b[37mGET / HTTP/1.1\u001b[0m\" 200 -\n",
            "127.0.0.1 - - [02/Dec/2020 18:38:25] \"\u001b[33mGET /favicon.ico HTTP/1.1\u001b[0m\" 404 -\n",
            "127.0.0.1 - - [02/Dec/2020 18:38:33] \"\u001b[37mGET /predict HTTP/1.1\u001b[0m\" 200 -\n"
          ],
          "name": "stderr"
        }
      ]
    },
    {
      "cell_type": "code",
      "metadata": {
        "colab": {
          "base_uri": "https://localhost:8080/"
        },
        "id": "TEnznaphmeND",
        "outputId": "03fa5ea1-c6ad-4191-a345-a03278f26ec7"
      },
      "source": [
        "message='How many jobs are created in 2020?'\n",
        "prediction = model.predict(message)\n",
        "{'query':message,\n",
        " 'prediction':list(prediction)}"
      ],
      "execution_count": null,
      "outputs": [
        {
          "output_type": "execute_result",
          "data": {
            "text/plain": [
              "{'prediction': ['1.1 million',\n",
              "  'Q2-2020-Amazon-Earnings-Release',\n",
              "  'Empowering Small and Medium-Sized Businesses• Amazon released its 2020 Small and Medium-Sized Business (SMB) Impact Report, highlighting how SMBs selling in its U.S. store have sold more than 3.4 billion products in the past year and created an estimated 1.1 million jobs.• In partnership with the British small business support network “Enterprise Nation,” Amazon launched the Amazon Small Business Accelerator, which aims to support more than 200,000 small businesses across the U.K. negatively impacted by the COVID-19 crisis. Amazon hosted a week-long boot camp in the U.K. to help 1,000 offline businesses get online, and offered free services, AWS credits, training, and support.• In the U.K., Amazon worked with the British Chambers of Commerce to give up to 1,000 businesses tours of Amazon fulfillment centers, helping other companies learn from the safety measures Amazon has put in place within its own operations so the businesses can re-open safely and kick-start the economy.• Amazon in Japan launched Global Selling to allow Japanese sellers to reach new customers across 16 Amazon sites worldwide. • Amazon in India announced plans to help digitally enable micro, small, and medium businesses across the country as part of a $1 billion investment pledge. Amazon launched Local Shops on Amazon.in, offering shopkeepers and retailers with physical stores the ability to register to serve more customers from their local areas. Since launch, more than 11,000 sellers have enrolled in the program. In addition, Amazon introduced seller registration and account management services in Hindi to help businesses overcome language barriers. Since launch, more than 10,000 sellers have used Hindi to register on Amazon.in. ',\n",
              "  12.552233914829113]}"
            ]
          },
          "metadata": {
            "tags": []
          },
          "execution_count": 23
        }
      ]
    },
    {
      "cell_type": "code",
      "metadata": {
        "id": "oQ8KL0RmpBUn"
      },
      "source": [
        ""
      ],
      "execution_count": null,
      "outputs": []
    }
  ]
}